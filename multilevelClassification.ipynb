{
 "cells": [
  {
   "cell_type": "markdown",
   "id": "8215200c",
   "metadata": {},
   "source": [
    "## Multilevel Classification"
   ]
  },
  {
   "cell_type": "code",
   "execution_count": 18,
   "id": "2a570abb",
   "metadata": {},
   "outputs": [],
   "source": [
    "# import necessary libraries\n",
    "import numpy as np\n",
    "import pandas as pd\n",
    "import torch\n",
    "import torch.nn as nn\n",
    "import torch.optim as optim\n",
    "from sklearn.model_selection import train_test_split\n",
    "from sklearn.preprocessing import LabelEncoder\n",
    "from torch.utils.data import DataLoader, Dataset   \n",
    "\n",
    "\n",
    "from tqdm import tqdm"
   ]
  },
  {
   "cell_type": "code",
   "execution_count": null,
   "id": "7ee1589e",
   "metadata": {},
   "outputs": [],
   "source": []
  },
  {
   "cell_type": "code",
   "execution_count": 5,
   "id": "552d6aa9",
   "metadata": {},
   "outputs": [],
   "source": [
    "train_df = pd.read_csv('data/ModApte_train.csv')\n",
    "test_df= pd.read_csv('data/ModApte_test.csv')"
   ]
  },
  {
   "cell_type": "code",
   "execution_count": 7,
   "id": "67a65ee1",
   "metadata": {},
   "outputs": [
    {
     "data": {
      "text/html": [
       "<div>\n",
       "<style scoped>\n",
       "    .dataframe tbody tr th:only-of-type {\n",
       "        vertical-align: middle;\n",
       "    }\n",
       "\n",
       "    .dataframe tbody tr th {\n",
       "        vertical-align: top;\n",
       "    }\n",
       "\n",
       "    .dataframe thead th {\n",
       "        text-align: right;\n",
       "    }\n",
       "</style>\n",
       "<table border=\"1\" class=\"dataframe\">\n",
       "  <thead>\n",
       "    <tr style=\"text-align: right;\">\n",
       "      <th></th>\n",
       "      <th>text</th>\n",
       "      <th>text_type</th>\n",
       "      <th>topics</th>\n",
       "      <th>lewis_split</th>\n",
       "      <th>cgis_split</th>\n",
       "      <th>old_id</th>\n",
       "      <th>new_id</th>\n",
       "      <th>places</th>\n",
       "      <th>people</th>\n",
       "      <th>orgs</th>\n",
       "      <th>exchanges</th>\n",
       "      <th>date</th>\n",
       "      <th>title</th>\n",
       "    </tr>\n",
       "  </thead>\n",
       "  <tbody>\n",
       "    <tr>\n",
       "      <th>0</th>\n",
       "      <td>Showers continued throughout the week in\\nthe ...</td>\n",
       "      <td>\"NORM\"</td>\n",
       "      <td>['cocoa']</td>\n",
       "      <td>\"TRAIN\"</td>\n",
       "      <td>\"TRAINING-SET\"</td>\n",
       "      <td>\"5544\"</td>\n",
       "      <td>\"1\"</td>\n",
       "      <td>['el-salvador' 'usa' 'uruguay']</td>\n",
       "      <td>[]</td>\n",
       "      <td>[]</td>\n",
       "      <td>[]</td>\n",
       "      <td>26-FEB-1987 15:01:01.79</td>\n",
       "      <td>BAHIA COCOA REVIEW</td>\n",
       "    </tr>\n",
       "    <tr>\n",
       "      <th>1</th>\n",
       "      <td>The U.S. Agriculture Department\\nreported the ...</td>\n",
       "      <td>\"NORM\"</td>\n",
       "      <td>['grain' 'wheat' 'corn' 'barley' 'oat' 'sorghum']</td>\n",
       "      <td>\"TRAIN\"</td>\n",
       "      <td>\"TRAINING-SET\"</td>\n",
       "      <td>\"5548\"</td>\n",
       "      <td>\"5\"</td>\n",
       "      <td>['usa']</td>\n",
       "      <td>[]</td>\n",
       "      <td>[]</td>\n",
       "      <td>[]</td>\n",
       "      <td>26-FEB-1987 15:10:44.60</td>\n",
       "      <td>NATIONAL AVERAGE PRICES FOR FARMER-OWNED RESERVE</td>\n",
       "    </tr>\n",
       "    <tr>\n",
       "      <th>2</th>\n",
       "      <td>Argentine grain board figures show\\ncrop regis...</td>\n",
       "      <td>\"NORM\"</td>\n",
       "      <td>['veg-oil' 'linseed' 'lin-oil' 'soy-oil' 'sun-...</td>\n",
       "      <td>\"TRAIN\"</td>\n",
       "      <td>\"TRAINING-SET\"</td>\n",
       "      <td>\"5549\"</td>\n",
       "      <td>\"6\"</td>\n",
       "      <td>['argentina']</td>\n",
       "      <td>[]</td>\n",
       "      <td>[]</td>\n",
       "      <td>[]</td>\n",
       "      <td>26-FEB-1987 15:14:36.41</td>\n",
       "      <td>ARGENTINE 1986/87 GRAIN/OILSEED REGISTRATIONS</td>\n",
       "    </tr>\n",
       "    <tr>\n",
       "      <th>3</th>\n",
       "      <td>Moody's Investors Service Inc said it\\nlowered...</td>\n",
       "      <td>\"NORM\"</td>\n",
       "      <td>[]</td>\n",
       "      <td>\"TRAIN\"</td>\n",
       "      <td>\"TRAINING-SET\"</td>\n",
       "      <td>\"5551\"</td>\n",
       "      <td>\"8\"</td>\n",
       "      <td>['usa']</td>\n",
       "      <td>[]</td>\n",
       "      <td>[]</td>\n",
       "      <td>[]</td>\n",
       "      <td>26-FEB-1987 15:15:40.12</td>\n",
       "      <td>USX &amp;lt;X&gt; DEBT DOWGRADED BY MOODY'S</td>\n",
       "    </tr>\n",
       "    <tr>\n",
       "      <th>4</th>\n",
       "      <td>Champion Products Inc said its\\nboard of direc...</td>\n",
       "      <td>\"NORM\"</td>\n",
       "      <td>['earn']</td>\n",
       "      <td>\"TRAIN\"</td>\n",
       "      <td>\"TRAINING-SET\"</td>\n",
       "      <td>\"5552\"</td>\n",
       "      <td>\"9\"</td>\n",
       "      <td>['usa']</td>\n",
       "      <td>[]</td>\n",
       "      <td>[]</td>\n",
       "      <td>[]</td>\n",
       "      <td>26-FEB-1987 15:17:11.20</td>\n",
       "      <td>CHAMPION PRODUCTS &amp;lt;CH&gt; APPROVES STOCK SPLIT</td>\n",
       "    </tr>\n",
       "  </tbody>\n",
       "</table>\n",
       "</div>"
      ],
      "text/plain": [
       "                                                text text_type  \\\n",
       "0  Showers continued throughout the week in\\nthe ...    \"NORM\"   \n",
       "1  The U.S. Agriculture Department\\nreported the ...    \"NORM\"   \n",
       "2  Argentine grain board figures show\\ncrop regis...    \"NORM\"   \n",
       "3  Moody's Investors Service Inc said it\\nlowered...    \"NORM\"   \n",
       "4  Champion Products Inc said its\\nboard of direc...    \"NORM\"   \n",
       "\n",
       "                                              topics lewis_split  \\\n",
       "0                                          ['cocoa']     \"TRAIN\"   \n",
       "1  ['grain' 'wheat' 'corn' 'barley' 'oat' 'sorghum']     \"TRAIN\"   \n",
       "2  ['veg-oil' 'linseed' 'lin-oil' 'soy-oil' 'sun-...     \"TRAIN\"   \n",
       "3                                                 []     \"TRAIN\"   \n",
       "4                                           ['earn']     \"TRAIN\"   \n",
       "\n",
       "       cgis_split  old_id new_id                           places people orgs  \\\n",
       "0  \"TRAINING-SET\"  \"5544\"    \"1\"  ['el-salvador' 'usa' 'uruguay']     []   []   \n",
       "1  \"TRAINING-SET\"  \"5548\"    \"5\"                          ['usa']     []   []   \n",
       "2  \"TRAINING-SET\"  \"5549\"    \"6\"                    ['argentina']     []   []   \n",
       "3  \"TRAINING-SET\"  \"5551\"    \"8\"                          ['usa']     []   []   \n",
       "4  \"TRAINING-SET\"  \"5552\"    \"9\"                          ['usa']     []   []   \n",
       "\n",
       "  exchanges                     date  \\\n",
       "0        []  26-FEB-1987 15:01:01.79   \n",
       "1        []  26-FEB-1987 15:10:44.60   \n",
       "2        []  26-FEB-1987 15:14:36.41   \n",
       "3        []  26-FEB-1987 15:15:40.12   \n",
       "4        []  26-FEB-1987 15:17:11.20   \n",
       "\n",
       "                                              title  \n",
       "0                                BAHIA COCOA REVIEW  \n",
       "1  NATIONAL AVERAGE PRICES FOR FARMER-OWNED RESERVE  \n",
       "2     ARGENTINE 1986/87 GRAIN/OILSEED REGISTRATIONS  \n",
       "3              USX &lt;X> DEBT DOWGRADED BY MOODY'S  \n",
       "4    CHAMPION PRODUCTS &lt;CH> APPROVES STOCK SPLIT  "
      ]
     },
     "execution_count": 7,
     "metadata": {},
     "output_type": "execute_result"
    }
   ],
   "source": [
    "train_df.head()"
   ]
  },
  {
   "cell_type": "code",
   "execution_count": null,
   "id": "bc75ecd0",
   "metadata": {},
   "outputs": [],
   "source": [
    "train_df['topics'] = train_df['topics'].apply(lambda x: x.split('/'))\n",
    "test_df['topics'] = test_df['topics'].apply(lambda x: x.split('/'))"
   ]
  },
  {
   "cell_type": "code",
   "execution_count": null,
   "id": "2f097ce2",
   "metadata": {},
   "outputs": [
    {
     "name": "stdout",
     "output_type": "stream",
     "text": [
      "Number of unique classes: 473\n"
     ]
    },
    {
     "name": "stderr",
     "output_type": "stream",
     "text": [
      "/Users/waquarism/Documents/projects/DLMLProj/WAQENV/lib/python3.9/site-packages/sklearn/preprocessing/_label.py:909: UserWarning: unknown class(es) [\"['acq' 'alum']\", \"['acq' 'hog']\", \"['acq' 'livestock' 'carcass']\", \"['acq' 'livestock']\", \"['acq' 'nat-gas']\", \"['acq' 'oilseed' 'sunseed' 'soybean']\", \"['acq' 'pet-chem']\", \"['alum' 'ship']\", \"['bop' 'gnp' 'cpi']\", \"['cocoa' 'acq']\", \"['cocoa' 'cotton' 'coffee']\", \"['coconut']\", \"['coffee' 'cocoa']\", \"['copper' 'sugar' 'grain' 'corn']\", \"['crude' 'earn']\", \"['crude' 'fuel' 'naphtha']\", \"['crude' 'heat']\", \"['crude' 'naphtha' 'pet-chem']\", \"['crude' 'pet-chem' 'propane']\", \"['dlr' 'yen']\", \"['f-cattle' 'livestock']\", \"['gas' 'lead']\", \"['gas' 'naphtha' 'fuel']\", \"['gnp' 'bop' 'cpi']\", \"['gnp' 'cpi' 'bop']\", \"['gnp' 'income' 'housing']\", \"['gnp' 'jobs' 'bop' 'cpi']\", \"['gnp' 'jobs' 'bop']\", \"['gnp' 'jobs' 'cpi']\", \"['gold' 'platinum']\", \"['gold' 'silver' 'copper' 'alum']\", \"['gold' 'silver' 'platinum']\", \"['gold' 'zinc' 'lead' 'silver']\", \"['grain' 'barley' 'corn' 'wheat']\", \"['grain' 'barley' 'wheat']\", \"['grain' 'corn' 'oilseed' 'soybean' 'soy-meal' 'meal-feed' 'veg-oil'\\n 'soy-oil' 'cotton' 'sorghum' 'cotton-oil' 'barley' 'oat' 'rice']\", \"['grain' 'corn' 'rice' 'oilseed' 'cottonseed' 'groundnut']\", \"['grain' 'corn' 'sorghum' 'sunseed' 'wheat' 'oilseed' 'soybean']\", \"['grain' 'corn' 'sugar' 'rubber']\", \"['grain' 'cotton']\", \"['grain' 'meal-feed' 'wheat' 'corn' 'soy-meal']\", \"['grain' 'oilseed' 'meal-feed' 'veg-oil' 'corn' 'wheat' 'soybean'\\n 'soy-oil' 'soy-meal' 'cotton' 'rice' 'sorghum' 'barley' 'oat']\", \"['grain' 'oilseed' 'meal-feed' 'veg-oil' 'wheat' 'corn' 'soybean'\\n 'soy-oil' 'soy-meal' 'cotton']\", \"['grain' 'oilseed' 'meal-feed' 'veg-oil']\", \"['grain' 'oilseed' 'meal-feed']\", \"['grain' 'oilseed' 'veg-oil' 'sorghum' 'sun-meal' 'lin-oil'\\n 'groundnut-oil' 'soy-oil' 'rape-oil' 'sun-oil' 'wheat' 'meal-feed']\", \"['grain' 'orange' 'sugar']\", \"['grain' 'rice' 'sugar']\", \"['grain' 'rice' 'wheat' 'sorghum']\", \"['grain' 'rye' 'wheat' 'barley' 'oat' 'oilseed' 'rapeseed' 'sugar']\", \"['grain' 'ship' 'wheat' 'barley']\", \"['grain' 'sorghum']\", \"['grain' 'trade']\", \"['grain' 'veg-oil']\", \"['grain' 'wheat' 'corn' 'oilseed' 'soybean' 'meal-feed' 'soy-meal'\\n 'veg-oil' 'soy-oil' 'cotton' 'rice']\", \"['grain' 'wheat' 'corn' 'sorghum' 'oat']\", \"['grain' 'wheat' 'cotton' 'soybean' 'soy-oil' 'veg-oil' 'oilseed'\\n 'soy-meal' 'meal-feed']\", \"['grain' 'wheat' 'oat' 'barley']\", \"['grain' 'wheat' 'oilseed' 'rapeseed']\", \"['grain' 'wheat' 'oilseed' 'sunseed']\", \"['grain' 'wheat' 'oilseed']\", \"['grain' 'wheat' 'soybean' 'corn' 'sorghum' 'oilseed' 'sunseed']\", \"['groundnut']\", \"['hog']\", \"['interest' 'housing']\", \"['interest' 'money-fx' 'dfl' 'dmk']\", \"['interest' 'money-supply' 'trade']\", \"['interest' 'reserves' 'jobs' 'income']\", \"['ipi' 'gnp' 'grain']\", \"['lead' 'zinc' 'strategic-metal']\", \"['livestock' 'carcass' 'hog']\", \"['meal-feed' 'livestock' 'carcass' 'grain' 'corn' 'sorghum' 'oilseed'\\n 'soy-meal' 'rapeseed']\", \"['meal-feed' 'soy-meal' 'oilseed' 'soybean' 'sunseed' 'rapeseed']\", \"['money-fx' 'crude']\", \"['money-fx' 'dlr' 'yen' 'bop' 'gnp']\", \"['money-fx' 'dlr' 'yen' 'dmk']\", \"['money-fx' 'grain' 'cotton' 'livestock' 'gold' 'silver']\", \"['money-fx' 'nkr']\", \"['money-fx' 'sfr' 'dmk']\", \"['money-supply' 'cpi' 'gnp']\", \"['money-supply' 'money-fx' 'dlr']\", \"['naphtha']\", \"['nat-gas' 'ship']\", \"['oilseed' 'groundnut']\", \"['oilseed' 'soybean' 'grain' 'wheat' 'corn']\", \"['oilseed' 'soybean' 'soy-meal' 'meal-feed']\", \"['oilseed' 'soybean' 'veg-oil' 'palm-oil' 'palmkernel' 'coconut-oil']\", \"['oilseed' 'soybean' 'veg-oil' 'trade']\", \"['pet-chem' 'crude' 'acq' 'earn']\", \"['platinum' 'strategic-metal' 'palladium']\", \"['propane' 'ship']\", \"['propane']\", \"['reserves' 'interest']\", \"['reserves' 'money-supply']\", \"['rice' 'grain' 'meal-feed']\", \"['rice']\", \"['ship' 'lead']\", \"['ship' 'sugar']\", \"['silver' 'platinum']\", \"['soybean' 'grain' 'wheat' 'corn']\", \"['tin' 'veg-oil' 'palm-oil' 'alum']\", \"['trade' 'carcass' 'orange' 'rice']\", \"['trade' 'carcass']\", \"['trade' 'grain' 'corn']\", \"['trade' 'grain' 'rice' 'corn' 'sugar' 'tin' 'rubber']\", \"['trade' 'grain' 'rice' 'cotton']\", \"['trade' 'livestock' 'carcass' 'grain' 'wheat']\", \"['trade' 'livestock' 'carcass' 'sugar']\", \"['trade' 'livestock' 'hog']\", \"['trade' 'lumber']\", \"['trade' 'reserves']\", \"['trade' 'rice' 'livestock' 'carcass' 'grain' 'corn' 'oilseed' 'soybean']\", \"['trade' 'soybean' 'veg-oil']\", \"['trade' 'tea' 'coffee' 'cotton' 'castor-oil']\", \"['trade' 'trade']\", \"['trade' 'wpi' 'cpi' 'income' 'retail']\", \"['veg-oil' 'coconut' 'copra-cake' 'meal-feed' 'palm-oil' 'coconut-oil']\", \"['veg-oil' 'grain' 'corn' 'wheat']\", \"['veg-oil' 'palm-oil' 'lumber' 'coffee' 'rubber']\", \"['veg-oil' 'palm-oil' 'soy-oil' 'oilseed' 'soybean']\", \"['veg-oil' 'palm-oil' 'soy-oil' 'rape-oil' 'cotton-oil' 'coconut-oil'\\n 'sun-oil']\", \"['veg-oil' 'soy-oil' 'rape-oil']\", \"['yen']\", \"['zinc' 'lead' 'strategic-metal']\"] will be ignored\n",
      "  warnings.warn(\n"
     ]
    }
   ],
   "source": [
    "# prepare multi-label binarizer\n",
    "from sklearn.preprocessing import MultiLabelBinarizer\n",
    "mlb = MultiLabelBinarizer()\n",
    "y_train = mlb.fit_transform(train_df['topics'])\n",
    "y_test = mlb.transform(test_df['topics'])\n",
    "num_classes = len(mlb.classes_)\n",
    "print(f\"Number of unique classes: {num_classes}\")"
   ]
  },
  {
   "cell_type": "code",
   "execution_count": null,
   "id": "f0f629b2",
   "metadata": {},
   "outputs": [
    {
     "name": "stdout",
     "output_type": "stream",
     "text": [
      "Loaded 400000 word vectors.\n"
     ]
    }
   ],
   "source": [
    "# Load Glove embeddings\n",
    "embeddings_index = {}\n",
    "with open(\"data/glove.6B.100d.txt\", 'r', encoding='utf-8') as f:\n",
    "    for line in f:\n",
    "        values = line.split()\n",
    "        word = values[0]\n",
    "        coefs = np.asarray(values[1:], dtype='float32')\n",
    "        embeddings_index[word] = coefs\n",
    "print(f\"Loaded {len(embeddings_index)} word vectors.\")"
   ]
  },
  {
   "cell_type": "code",
   "execution_count": 20,
   "id": "510ccfca",
   "metadata": {},
   "outputs": [],
   "source": [
    "from sklearn.feature_extraction.text import ENGLISH_STOP_WORDS"
   ]
  },
  {
   "cell_type": "code",
   "execution_count": 21,
   "id": "aabb1af0",
   "metadata": {},
   "outputs": [],
   "source": [
    "# Text to Glove embedding vectors\n",
    "def text_to_glove_vector(text):\n",
    "    words = [w for w in text.lower().split() if w not in ENGLISH_STOP_WORDS]\n",
    "    vectors = [embeddings_index[w] for w in words if w in embeddings_index]\n",
    "    if len(vectors) == 0:\n",
    "        return np.zeros(100)\n",
    "    return np.mean(vectors, axis=0)"
   ]
  },
  {
   "cell_type": "code",
   "execution_count": 22,
   "id": "1395772d",
   "metadata": {},
   "outputs": [
    {
     "name": "stderr",
     "output_type": "stream",
     "text": [
      "\n",
      "100%|██████████| 677/677 [00:00<00:00, 44636.39it/s]\n",
      "\n",
      "100%|██████████| 677/677 [00:00<00:00, 115175.79it/s]\n"
     ]
    }
   ],
   "source": [
    "X_train = np.array([text_to_glove_vector(text) for text in tqdm(str(train_df['text']))])\n",
    "X_test = np.array([text_to_glove_vector(text) for text in tqdm(str(test_df['text']))])"
   ]
  },
  {
   "cell_type": "code",
   "execution_count": 23,
   "id": "8171266e",
   "metadata": {},
   "outputs": [],
   "source": [
    "class ReutersDataset(Dataset):\n",
    "    def __init__(self, X, y):\n",
    "        self.X = X\n",
    "        self.y = y\n",
    "\n",
    "    def __len__(self):\n",
    "        return len(self.X)\n",
    "\n",
    "    def __getitem__(self, idx):\n",
    "        return torch.tensor(self.X[idx], dtype=torch.float32), torch.tensor(self.y[idx], dtype=torch.float32)"
   ]
  },
  {
   "cell_type": "code",
   "execution_count": 24,
   "id": "8f817783",
   "metadata": {},
   "outputs": [],
   "source": [
    "train_dataset = ReutersDataset(X_train, y_train)\n",
    "test_dataset = ReutersDataset(X_test, y_test)\n",
    "\n",
    "train_loader = DataLoader(train_dataset, batch_size=64, shuffle=True)\n",
    "test_loader = DataLoader(test_dataset, batch_size=64)"
   ]
  },
  {
   "cell_type": "code",
   "execution_count": 26,
   "id": "8111f7c0",
   "metadata": {},
   "outputs": [],
   "source": [
    "# Define simple MLP model\n",
    "class MultiLabelMLP(nn.Module):\n",
    "    def __init__(self, input_dim, hidden_dim, output_dim):\n",
    "        super(MultiLabelMLP, self).__init__()\n",
    "        self.fc1 = nn.Linear(input_dim, hidden_dim)\n",
    "        self.relu = nn.ReLU()\n",
    "        self.fc2 = nn.Linear(hidden_dim, output_dim)\n",
    "        self.sigmoid = nn.Sigmoid()\n",
    "\n",
    "    def forward(self, x):\n",
    "        out = self.fc1(x)\n",
    "        out = self.relu(out)\n",
    "        out = self.fc2(out)\n",
    "        out = self.sigmoid(out)\n",
    "        return out\n",
    "\n",
    "model = MultiLabelMLP(input_dim=100, hidden_dim=128, output_dim=num_classes)"
   ]
  },
  {
   "cell_type": "code",
   "execution_count": 30,
   "id": "e0dd0482",
   "metadata": {},
   "outputs": [],
   "source": [
    "creterion = nn.BCELoss()\n",
    "optimizer = optim.Adam(model.parameters(), lr=0.001)"
   ]
  },
  {
   "cell_type": "code",
   "execution_count": null,
   "id": "2dae4d25",
   "metadata": {},
   "outputs": [
    {
     "name": "stdout",
     "output_type": "stream",
     "text": [
      "Test Loss: 0.6956346305933866\n"
     ]
    }
   ],
   "source": [
    "# make preadictions and check loss\n",
    "model.eval()\n",
    "with torch.no_grad():\n",
    "    total_loss = 0\n",
    "    for inputs, labels in test_loader:\n",
    "        outputs = model(inputs)\n",
    "        loss = creterion(outputs, labels)\n",
    "        total_loss += loss.item()\n",
    "    print(f\"Test Loss: {total_loss / len(test_loader)}\") "
   ]
  },
  {
   "cell_type": "code",
   "execution_count": null,
   "id": "dedd94bd",
   "metadata": {},
   "outputs": [],
   "source": []
  }
 ],
 "metadata": {
  "kernelspec": {
   "display_name": "WAQENV",
   "language": "python",
   "name": "python3"
  },
  "language_info": {
   "codemirror_mode": {
    "name": "ipython",
    "version": 3
   },
   "file_extension": ".py",
   "mimetype": "text/x-python",
   "name": "python",
   "nbconvert_exporter": "python",
   "pygments_lexer": "ipython3",
   "version": "3.9.6"
  }
 },
 "nbformat": 4,
 "nbformat_minor": 5
}
